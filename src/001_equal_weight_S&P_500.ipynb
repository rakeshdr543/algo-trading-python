{
 "cells": [
  {
   "cell_type": "markdown",
   "source": [
    "# Equal-Weight S&P 500 Index Fund\n",
    "\n",
    "## Introduction & Library Imports\n",
    "\n",
    "The S&P 500 is the world's most popular stock market index. The largest fund that is benchmarked to this index is the SPDR® S&P 500® ETF Trust. It has more than US$250 billion of assets under management.\n",
    "\n",
    "The goal of this section of the course is to create a Python script that will accept the value of your portfolio and tell you how many shares of each S&P 500 constituent you should purchase to get an equal-weight version of the index fund.\n",
    "\n",
    "## Library Imports\n",
    "\n",
    "The first thing we need to do is import the open-source software libraries that we'll be using in this tutorial."
   ],
   "metadata": {}
  },
  {
   "cell_type": "code",
   "execution_count": 2,
   "source": [
    "import numpy as np\r\n",
    "import pandas as pd\r\n",
    "import requests\r\n",
    "import xlsxwriter\r\n",
    "import math"
   ],
   "outputs": [],
   "metadata": {}
  },
  {
   "cell_type": "markdown",
   "source": [
    "## Importing Our List of Stocks\n",
    "\n",
    "The next thing we need to do is import the constituents of the S&P 500.\n",
    "\n",
    "These constituents change over time, so in an ideal world you would connect directly to the index provider (Standard & Poor's) and pull their real-time constituents on a regular basis.\n",
    "\n",
    "Paying for access to the index provider's API is outside of the scope of this course. \n",
    "\n",
    "There's a static version of the S&P 500 constituents available here. [Click this link to download them now](https://drive.google.com/file/d/1ZJSpbY69DVckVZlO9cC6KkgfSufybcHN/view?usp=sharing). Move this file into the `starter-files` folder so it can be accessed by other files in that directory.\n",
    "\n",
    "Now it's time to import these stocks to our Jupyter Notebook file."
   ],
   "metadata": {}
  },
  {
   "cell_type": "code",
   "execution_count": 3,
   "source": [
    "stocks=pd.read_csv('./sp_500_stocks.csv')\r\n",
    "print(stocks)"
   ],
   "outputs": [
    {
     "output_type": "stream",
     "name": "stdout",
     "text": [
      "    Ticker\n",
      "0        A\n",
      "1      AAL\n",
      "2      AAP\n",
      "3     AAPL\n",
      "4     ABBV\n",
      "..     ...\n",
      "500    YUM\n",
      "501    ZBH\n",
      "502   ZBRA\n",
      "503   ZION\n",
      "504    ZTS\n",
      "\n",
      "[505 rows x 1 columns]\n"
     ]
    }
   ],
   "metadata": {}
  },
  {
   "cell_type": "markdown",
   "source": [
    "## Acquiring an API Token\n",
    "\n",
    "Now it's time to import our IEX Cloud API token. This is the data provider that we will be using throughout this course.\n",
    "\n",
    "API tokens (and other sensitive information) should be stored in a `secrets.py` file that doesn't get pushed to your local Git repository. We'll be using a sandbox API token in this course, which means that the data we'll use is randomly-generated and (more importantly) has no cost associated with it.\n",
    "\n",
    "[Click here](http://nickmccullum.com/algorithmic-trading-python/secrets.py) to download your `secrets.py` file. Move the file into the same directory as this Jupyter Notebook before proceeding."
   ],
   "metadata": {}
  },
  {
   "cell_type": "code",
   "execution_count": 4,
   "source": [
    "from secrets import IEX_CLOUD_API_TOKEN"
   ],
   "outputs": [],
   "metadata": {}
  },
  {
   "cell_type": "markdown",
   "source": [
    "## Making Our First API Call\n",
    "\n",
    "Now it's time to structure our API calls to IEX cloud. \n",
    "\n",
    "We need the following information from the API:\n",
    "\n",
    "* Market capitalization for each stock\n",
    "* Price of each stock\n",
    "\n"
   ],
   "metadata": {}
  },
  {
   "cell_type": "code",
   "execution_count": 5,
   "source": [
    "symbol='AAPL'\r\n",
    "api_url = f'https://sandbox.iexapis.com/stable/stock/{symbol}/quote?token={IEX_CLOUD_API_TOKEN}'\r\n",
    "data = requests.get(api_url).json()\r\n",
    "data"
   ],
   "outputs": [
    {
     "output_type": "execute_result",
     "data": {
      "text/plain": [
       "{'avgTotalVolume': 78239779,\n",
       " 'calculationPrice': 'close',\n",
       " 'change': -2.84,\n",
       " 'changePercent': -0.01856,\n",
       " 'close': 149.26,\n",
       " 'closeSource': 'fiaiocfl',\n",
       " 'closeTime': 1710742285716,\n",
       " 'companyName': 'Apple Inc',\n",
       " 'currency': 'USD',\n",
       " 'delayedPrice': 148,\n",
       " 'delayedPriceTime': 1694862901067,\n",
       " 'extendedChange': -0.31,\n",
       " 'extendedChangePercent': -0.00221,\n",
       " 'extendedPrice': 148.01,\n",
       " 'extendedPriceTime': 1650356269040,\n",
       " 'high': 152.13,\n",
       " 'highSource': ' d5el dt niumacpreieey1',\n",
       " 'highTime': 1692906112085,\n",
       " 'iexAskPrice': 0,\n",
       " 'iexAskSize': 0,\n",
       " 'iexBidPrice': 0,\n",
       " 'iexBidSize': 0,\n",
       " 'iexClose': 152.49,\n",
       " 'iexCloseTime': 1706124421283,\n",
       " 'iexLastUpdated': 1711334729882,\n",
       " 'iexMarketPercent': 0.01144654312975901,\n",
       " 'iexOpen': 153.23,\n",
       " 'iexOpenTime': 1690991016161,\n",
       " 'iexRealtimePrice': 151.18,\n",
       " 'iexRealtimeSize': 5,\n",
       " 'iexVolume': 1505485,\n",
       " 'lastTradeTime': 1654160151635,\n",
       " 'latestPrice': 150.5,\n",
       " 'latestSource': 'Close',\n",
       " 'latestTime': 'September 17, 2021',\n",
       " 'latestUpdate': 1640294534852,\n",
       " 'latestVolume': 131280848,\n",
       " 'low': 149.26,\n",
       " 'lowSource': 'yenu1 dte iel5aecridm p',\n",
       " 'lowTime': 1694604143376,\n",
       " 'marketCap': 2434137664669,\n",
       " 'oddLotDelayedPrice': 152,\n",
       " 'oddLotDelayedPriceTime': 1649893072824,\n",
       " 'open': 150.96,\n",
       " 'openTime': 1683413504303,\n",
       " 'openSource': 'lfafoici',\n",
       " 'peRatio': 29.05,\n",
       " 'previousClose': 156.18,\n",
       " 'previousVolume': 70430686,\n",
       " 'primaryExchange': 'QAANSD',\n",
       " 'symbol': 'AAPL',\n",
       " 'volume': 135030536,\n",
       " 'week52High': 161.27,\n",
       " 'week52Low': 102.94,\n",
       " 'ytdChange': 0.11213848655056288,\n",
       " 'isUSMarketOpen': False}"
      ]
     },
     "metadata": {},
     "execution_count": 5
    }
   ],
   "metadata": {}
  },
  {
   "cell_type": "markdown",
   "source": [
    "## Parsing Our API Call\n",
    "\n",
    "The API call that we executed in the last code block contains all of the information required to build our equal-weight S&P 500 strategy. \n",
    "\n",
    "With that said, the data isn't in a proper format yet. We need to parse it first."
   ],
   "metadata": {}
  },
  {
   "cell_type": "code",
   "execution_count": 6,
   "source": [
    "data['latestPrice']\r\n",
    "data['marketCap']"
   ],
   "outputs": [
    {
     "output_type": "execute_result",
     "data": {
      "text/plain": [
       "2434137664669"
      ]
     },
     "metadata": {},
     "execution_count": 6
    }
   ],
   "metadata": {}
  },
  {
   "cell_type": "markdown",
   "source": [
    "## Adding Our Stocks Data to a Pandas DataFrame\n",
    "\n",
    "The next thing we need to do is add our stock's price and market capitalization to a pandas DataFrame. Think of a DataFrame like the Python version of a spreadsheet. It stores tabular data."
   ],
   "metadata": {}
  },
  {
   "cell_type": "code",
   "execution_count": 7,
   "source": [
    "my_columns = ['Ticker', 'Price','Market Capitalization', 'Number Of Shares to Buy']\r\n",
    "final_dataframe = pd.DataFrame(columns = my_columns)\r\n",
    "final_dataframe"
   ],
   "outputs": [
    {
     "output_type": "execute_result",
     "data": {
      "text/html": [
       "<div>\n",
       "<style scoped>\n",
       "    .dataframe tbody tr th:only-of-type {\n",
       "        vertical-align: middle;\n",
       "    }\n",
       "\n",
       "    .dataframe tbody tr th {\n",
       "        vertical-align: top;\n",
       "    }\n",
       "\n",
       "    .dataframe thead th {\n",
       "        text-align: right;\n",
       "    }\n",
       "</style>\n",
       "<table border=\"1\" class=\"dataframe\">\n",
       "  <thead>\n",
       "    <tr style=\"text-align: right;\">\n",
       "      <th></th>\n",
       "      <th>Ticker</th>\n",
       "      <th>Price</th>\n",
       "      <th>Market Capitalization</th>\n",
       "      <th>Number Of Shares to Buy</th>\n",
       "    </tr>\n",
       "  </thead>\n",
       "  <tbody>\n",
       "  </tbody>\n",
       "</table>\n",
       "</div>"
      ],
      "text/plain": [
       "Empty DataFrame\n",
       "Columns: [Ticker, Price, Market Capitalization, Number Of Shares to Buy]\n",
       "Index: []"
      ]
     },
     "metadata": {},
     "execution_count": 7
    }
   ],
   "metadata": {}
  },
  {
   "cell_type": "code",
   "execution_count": 8,
   "source": [
    "final_dataframe = final_dataframe.append(\r\n",
    "                                        pd.Series(['AAPL', \r\n",
    "                                                   data['latestPrice'], \r\n",
    "                                                   data['marketCap'], \r\n",
    "                                                   'N/A'], \r\n",
    "                                                  index = my_columns), \r\n",
    "                                        ignore_index = True)\r\n",
    "final_dataframe"
   ],
   "outputs": [
    {
     "output_type": "execute_result",
     "data": {
      "text/html": [
       "<div>\n",
       "<style scoped>\n",
       "    .dataframe tbody tr th:only-of-type {\n",
       "        vertical-align: middle;\n",
       "    }\n",
       "\n",
       "    .dataframe tbody tr th {\n",
       "        vertical-align: top;\n",
       "    }\n",
       "\n",
       "    .dataframe thead th {\n",
       "        text-align: right;\n",
       "    }\n",
       "</style>\n",
       "<table border=\"1\" class=\"dataframe\">\n",
       "  <thead>\n",
       "    <tr style=\"text-align: right;\">\n",
       "      <th></th>\n",
       "      <th>Ticker</th>\n",
       "      <th>Price</th>\n",
       "      <th>Market Capitalization</th>\n",
       "      <th>Number Of Shares to Buy</th>\n",
       "    </tr>\n",
       "  </thead>\n",
       "  <tbody>\n",
       "    <tr>\n",
       "      <th>0</th>\n",
       "      <td>AAPL</td>\n",
       "      <td>150.5</td>\n",
       "      <td>2434137664669</td>\n",
       "      <td>N/A</td>\n",
       "    </tr>\n",
       "  </tbody>\n",
       "</table>\n",
       "</div>"
      ],
      "text/plain": [
       "  Ticker  Price Market Capitalization Number Of Shares to Buy\n",
       "0   AAPL  150.5         2434137664669                     N/A"
      ]
     },
     "metadata": {},
     "execution_count": 8
    }
   ],
   "metadata": {}
  },
  {
   "cell_type": "markdown",
   "source": [
    "## Looping Through The Tickers in Our List of Stocks\n",
    "\n",
    "Using the same logic that we outlined above, we can pull data for all S&P 500 stocks and store their data in the DataFrame using a `for` loop."
   ],
   "metadata": {}
  },
  {
   "cell_type": "code",
   "execution_count": 9,
   "source": [
    "# final_dataframe = pd.DataFrame(columns = my_columns)\r\n",
    "# for symbol in stocks['Ticker']:\r\n",
    "#     api_url = f'https://sandbox.iexapis.com/stable/stock/{symbol}/quote?token={IEX_CLOUD_API_TOKEN}'\r\n",
    "#     data = requests.get(api_url).json()\r\n",
    "#     final_dataframe = final_dataframe.append(\r\n",
    "#                                         pd.Series([symbol, \r\n",
    "#                                                    data['latestPrice'], \r\n",
    "#                                                    data['marketCap'], \r\n",
    "#                                                    'N/A'], \r\n",
    "#                                                   index = my_columns), \r\n",
    "#                                         ignore_index = True)"
   ],
   "outputs": [],
   "metadata": {}
  },
  {
   "cell_type": "code",
   "execution_count": 10,
   "source": [
    "final_dataframe"
   ],
   "outputs": [
    {
     "output_type": "execute_result",
     "data": {
      "text/html": [
       "<div>\n",
       "<style scoped>\n",
       "    .dataframe tbody tr th:only-of-type {\n",
       "        vertical-align: middle;\n",
       "    }\n",
       "\n",
       "    .dataframe tbody tr th {\n",
       "        vertical-align: top;\n",
       "    }\n",
       "\n",
       "    .dataframe thead th {\n",
       "        text-align: right;\n",
       "    }\n",
       "</style>\n",
       "<table border=\"1\" class=\"dataframe\">\n",
       "  <thead>\n",
       "    <tr style=\"text-align: right;\">\n",
       "      <th></th>\n",
       "      <th>Ticker</th>\n",
       "      <th>Price</th>\n",
       "      <th>Market Capitalization</th>\n",
       "      <th>Number Of Shares to Buy</th>\n",
       "    </tr>\n",
       "  </thead>\n",
       "  <tbody>\n",
       "    <tr>\n",
       "      <th>0</th>\n",
       "      <td>AAPL</td>\n",
       "      <td>150.5</td>\n",
       "      <td>2434137664669</td>\n",
       "      <td>N/A</td>\n",
       "    </tr>\n",
       "  </tbody>\n",
       "</table>\n",
       "</div>"
      ],
      "text/plain": [
       "  Ticker  Price Market Capitalization Number Of Shares to Buy\n",
       "0   AAPL  150.5         2434137664669                     N/A"
      ]
     },
     "metadata": {},
     "execution_count": 10
    }
   ],
   "metadata": {}
  },
  {
   "cell_type": "markdown",
   "source": [
    "## Using Batch API Calls to Improve Performance\n",
    "\n",
    "Batch API calls are one of the easiest ways to improve the performance of your code.\n",
    "\n",
    "This is because HTTP requests are typically one of the slowest components of a script.\n",
    "\n",
    "Also, API providers will often give you discounted rates for using batch API calls since they are easier for the API provider to respond to.\n",
    "\n",
    "IEX Cloud limits their batch API calls to 100 tickers per request. Still, this reduces the number of API calls we'll make in this section from 500 to 5 - huge improvement! In this section, we'll split our list of stocks into groups of 100 and then make a batch API call for each group."
   ],
   "metadata": {}
  },
  {
   "cell_type": "code",
   "execution_count": 11,
   "source": [
    "\r\n",
    "# Function sourced from \r\n",
    "# https://stackoverflow.com/questions/312443/how-do-you-split-a-list-into-evenly-sized-chunks\r\n",
    "def chunks(lst, n):\r\n",
    "    \"\"\"Yield successive n-sized chunks from lst.\"\"\"\r\n",
    "    for i in range(0, len(lst), n):\r\n",
    "        yield lst[i:i + n]"
   ],
   "outputs": [],
   "metadata": {}
  },
  {
   "cell_type": "code",
   "execution_count": 12,
   "source": [
    "symbol_groups = list(chunks(stocks['Ticker'], 100))\r\n",
    "symbol_strings = []\r\n",
    "for i in range(0, len(symbol_groups)):\r\n",
    "    symbol_strings.append(','.join(symbol_groups[i]))\r\n",
    "#     print(symbol_strings[i])\r\n",
    "\r\n",
    "final_dataframe = pd.DataFrame(columns = my_columns)\r\n",
    "\r\n",
    "for symbol_string in symbol_strings:\r\n",
    "#     print(symbol_strings)\r\n",
    "    batch_api_call_url = f'https://sandbox.iexapis.com/stable/stock/market/batch/?types=quote&symbols={symbol_string}&token={IEX_CLOUD_API_TOKEN}'\r\n",
    "    data = requests.get(batch_api_call_url).json()\r\n",
    "    for symbol in symbol_string.split(','):\r\n",
    "        final_dataframe = final_dataframe.append(\r\n",
    "                                        pd.Series([symbol, \r\n",
    "                                                   data[symbol]['quote']['latestPrice'], \r\n",
    "                                                   data[symbol]['quote']['marketCap'], \r\n",
    "                                                   'N/A'], \r\n",
    "                                                  index = my_columns), \r\n",
    "                                        ignore_index = True)\r\n",
    "        \r\n",
    "    \r\n",
    "final_dataframe"
   ],
   "outputs": [
    {
     "output_type": "execute_result",
     "data": {
      "text/html": [
       "<div>\n",
       "<style scoped>\n",
       "    .dataframe tbody tr th:only-of-type {\n",
       "        vertical-align: middle;\n",
       "    }\n",
       "\n",
       "    .dataframe tbody tr th {\n",
       "        vertical-align: top;\n",
       "    }\n",
       "\n",
       "    .dataframe thead th {\n",
       "        text-align: right;\n",
       "    }\n",
       "</style>\n",
       "<table border=\"1\" class=\"dataframe\">\n",
       "  <thead>\n",
       "    <tr style=\"text-align: right;\">\n",
       "      <th></th>\n",
       "      <th>Ticker</th>\n",
       "      <th>Price</th>\n",
       "      <th>Market Capitalization</th>\n",
       "      <th>Number Of Shares to Buy</th>\n",
       "    </tr>\n",
       "  </thead>\n",
       "  <tbody>\n",
       "    <tr>\n",
       "      <th>0</th>\n",
       "      <td>A</td>\n",
       "      <td>178.25</td>\n",
       "      <td>53822044282</td>\n",
       "      <td>N/A</td>\n",
       "    </tr>\n",
       "    <tr>\n",
       "      <th>1</th>\n",
       "      <td>AAL</td>\n",
       "      <td>20.68</td>\n",
       "      <td>13379277438</td>\n",
       "      <td>N/A</td>\n",
       "    </tr>\n",
       "    <tr>\n",
       "      <th>2</th>\n",
       "      <td>AAP</td>\n",
       "      <td>208.90</td>\n",
       "      <td>13019387992</td>\n",
       "      <td>N/A</td>\n",
       "    </tr>\n",
       "    <tr>\n",
       "      <th>3</th>\n",
       "      <td>AAPL</td>\n",
       "      <td>151.07</td>\n",
       "      <td>2451312967448</td>\n",
       "      <td>N/A</td>\n",
       "    </tr>\n",
       "    <tr>\n",
       "      <th>4</th>\n",
       "      <td>ABBV</td>\n",
       "      <td>110.02</td>\n",
       "      <td>193653039703</td>\n",
       "      <td>N/A</td>\n",
       "    </tr>\n",
       "    <tr>\n",
       "      <th>...</th>\n",
       "      <td>...</td>\n",
       "      <td>...</td>\n",
       "      <td>...</td>\n",
       "      <td>...</td>\n",
       "    </tr>\n",
       "    <tr>\n",
       "      <th>500</th>\n",
       "      <td>YUM</td>\n",
       "      <td>129.94</td>\n",
       "      <td>39255972188</td>\n",
       "      <td>N/A</td>\n",
       "    </tr>\n",
       "    <tr>\n",
       "      <th>501</th>\n",
       "      <td>ZBH</td>\n",
       "      <td>150.20</td>\n",
       "      <td>31344435356</td>\n",
       "      <td>N/A</td>\n",
       "    </tr>\n",
       "    <tr>\n",
       "      <th>502</th>\n",
       "      <td>ZBRA</td>\n",
       "      <td>585.44</td>\n",
       "      <td>31098221344</td>\n",
       "      <td>N/A</td>\n",
       "    </tr>\n",
       "    <tr>\n",
       "      <th>503</th>\n",
       "      <td>ZION</td>\n",
       "      <td>58.78</td>\n",
       "      <td>9421519541</td>\n",
       "      <td>N/A</td>\n",
       "    </tr>\n",
       "    <tr>\n",
       "      <th>504</th>\n",
       "      <td>ZTS</td>\n",
       "      <td>198.53</td>\n",
       "      <td>94230401778</td>\n",
       "      <td>N/A</td>\n",
       "    </tr>\n",
       "  </tbody>\n",
       "</table>\n",
       "<p>505 rows × 4 columns</p>\n",
       "</div>"
      ],
      "text/plain": [
       "    Ticker   Price Market Capitalization Number Of Shares to Buy\n",
       "0        A  178.25           53822044282                     N/A\n",
       "1      AAL   20.68           13379277438                     N/A\n",
       "2      AAP  208.90           13019387992                     N/A\n",
       "3     AAPL  151.07         2451312967448                     N/A\n",
       "4     ABBV  110.02          193653039703                     N/A\n",
       "..     ...     ...                   ...                     ...\n",
       "500    YUM  129.94           39255972188                     N/A\n",
       "501    ZBH  150.20           31344435356                     N/A\n",
       "502   ZBRA  585.44           31098221344                     N/A\n",
       "503   ZION   58.78            9421519541                     N/A\n",
       "504    ZTS  198.53           94230401778                     N/A\n",
       "\n",
       "[505 rows x 4 columns]"
      ]
     },
     "metadata": {},
     "execution_count": 12
    }
   ],
   "metadata": {}
  },
  {
   "cell_type": "markdown",
   "source": [
    "## Calculating the Number of Shares to Buy\n",
    "\n",
    "As you can see in the DataFrame above, we stil haven't calculated the number of shares of each stock to buy.\n",
    "\n",
    "We'll do that next."
   ],
   "metadata": {}
  },
  {
   "cell_type": "code",
   "execution_count": 13,
   "source": [
    "portfolio_size = input(\"Enter the value of your portfolio:\")\r\n",
    "\r\n",
    "try:\r\n",
    "    val = float(portfolio_size)\r\n",
    "except ValueError:\r\n",
    "    print(\"That's not a number! \\n Try again:\")\r\n",
    "    portfolio_size = input(\"Enter the value of your portfolio:\")"
   ],
   "outputs": [],
   "metadata": {}
  },
  {
   "cell_type": "code",
   "execution_count": 14,
   "source": [
    "position_size = float(portfolio_size) / len(final_dataframe.index)\r\n",
    "for i in range(0, len(final_dataframe['Ticker'])-1):\r\n",
    "    final_dataframe.loc[i, 'Number Of Shares to Buy'] = math.floor(position_size / final_dataframe['Price'][i])\r\n",
    "final_dataframe"
   ],
   "outputs": [
    {
     "output_type": "execute_result",
     "data": {
      "text/html": [
       "<div>\n",
       "<style scoped>\n",
       "    .dataframe tbody tr th:only-of-type {\n",
       "        vertical-align: middle;\n",
       "    }\n",
       "\n",
       "    .dataframe tbody tr th {\n",
       "        vertical-align: top;\n",
       "    }\n",
       "\n",
       "    .dataframe thead th {\n",
       "        text-align: right;\n",
       "    }\n",
       "</style>\n",
       "<table border=\"1\" class=\"dataframe\">\n",
       "  <thead>\n",
       "    <tr style=\"text-align: right;\">\n",
       "      <th></th>\n",
       "      <th>Ticker</th>\n",
       "      <th>Price</th>\n",
       "      <th>Market Capitalization</th>\n",
       "      <th>Number Of Shares to Buy</th>\n",
       "    </tr>\n",
       "  </thead>\n",
       "  <tbody>\n",
       "    <tr>\n",
       "      <th>0</th>\n",
       "      <td>A</td>\n",
       "      <td>178.25</td>\n",
       "      <td>53822044282</td>\n",
       "      <td>11</td>\n",
       "    </tr>\n",
       "    <tr>\n",
       "      <th>1</th>\n",
       "      <td>AAL</td>\n",
       "      <td>20.68</td>\n",
       "      <td>13379277438</td>\n",
       "      <td>95</td>\n",
       "    </tr>\n",
       "    <tr>\n",
       "      <th>2</th>\n",
       "      <td>AAP</td>\n",
       "      <td>208.90</td>\n",
       "      <td>13019387992</td>\n",
       "      <td>9</td>\n",
       "    </tr>\n",
       "    <tr>\n",
       "      <th>3</th>\n",
       "      <td>AAPL</td>\n",
       "      <td>151.07</td>\n",
       "      <td>2451312967448</td>\n",
       "      <td>13</td>\n",
       "    </tr>\n",
       "    <tr>\n",
       "      <th>4</th>\n",
       "      <td>ABBV</td>\n",
       "      <td>110.02</td>\n",
       "      <td>193653039703</td>\n",
       "      <td>17</td>\n",
       "    </tr>\n",
       "    <tr>\n",
       "      <th>...</th>\n",
       "      <td>...</td>\n",
       "      <td>...</td>\n",
       "      <td>...</td>\n",
       "      <td>...</td>\n",
       "    </tr>\n",
       "    <tr>\n",
       "      <th>500</th>\n",
       "      <td>YUM</td>\n",
       "      <td>129.94</td>\n",
       "      <td>39255972188</td>\n",
       "      <td>15</td>\n",
       "    </tr>\n",
       "    <tr>\n",
       "      <th>501</th>\n",
       "      <td>ZBH</td>\n",
       "      <td>150.20</td>\n",
       "      <td>31344435356</td>\n",
       "      <td>13</td>\n",
       "    </tr>\n",
       "    <tr>\n",
       "      <th>502</th>\n",
       "      <td>ZBRA</td>\n",
       "      <td>585.44</td>\n",
       "      <td>31098221344</td>\n",
       "      <td>3</td>\n",
       "    </tr>\n",
       "    <tr>\n",
       "      <th>503</th>\n",
       "      <td>ZION</td>\n",
       "      <td>58.78</td>\n",
       "      <td>9421519541</td>\n",
       "      <td>33</td>\n",
       "    </tr>\n",
       "    <tr>\n",
       "      <th>504</th>\n",
       "      <td>ZTS</td>\n",
       "      <td>198.53</td>\n",
       "      <td>94230401778</td>\n",
       "      <td>N/A</td>\n",
       "    </tr>\n",
       "  </tbody>\n",
       "</table>\n",
       "<p>505 rows × 4 columns</p>\n",
       "</div>"
      ],
      "text/plain": [
       "    Ticker   Price Market Capitalization Number Of Shares to Buy\n",
       "0        A  178.25           53822044282                      11\n",
       "1      AAL   20.68           13379277438                      95\n",
       "2      AAP  208.90           13019387992                       9\n",
       "3     AAPL  151.07         2451312967448                      13\n",
       "4     ABBV  110.02          193653039703                      17\n",
       "..     ...     ...                   ...                     ...\n",
       "500    YUM  129.94           39255972188                      15\n",
       "501    ZBH  150.20           31344435356                      13\n",
       "502   ZBRA  585.44           31098221344                       3\n",
       "503   ZION   58.78            9421519541                      33\n",
       "504    ZTS  198.53           94230401778                     N/A\n",
       "\n",
       "[505 rows x 4 columns]"
      ]
     },
     "metadata": {},
     "execution_count": 14
    }
   ],
   "metadata": {}
  },
  {
   "cell_type": "markdown",
   "source": [
    "## Formatting Our Excel Output\n",
    "\n",
    "We will be using the XlsxWriter library for Python to create nicely-formatted Excel files.\n",
    "\n",
    "XlsxWriter is an excellent package and offers tons of customization. However, the tradeoff for this is that the library can seem very complicated to new users. Accordingly, this section will be fairly long because I want to do a good job of explaining how XlsxWriter works.\n",
    "\n",
    "### Initializing our XlsxWriter Object"
   ],
   "metadata": {}
  },
  {
   "cell_type": "code",
   "execution_count": 15,
   "source": [
    "writer = pd.ExcelWriter('recommended_trades.xlsx', engine='xlsxwriter')\r\n",
    "final_dataframe.to_excel(writer, sheet_name='Recommended Trades', index = False)"
   ],
   "outputs": [],
   "metadata": {}
  },
  {
   "cell_type": "markdown",
   "source": [
    "### Creating the Formats We'll Need For Our `.xlsx` File\n",
    "\n",
    "Formats include colors, fonts, and also symbols like `%` and `$`. We'll need four main formats for our Excel document:\n",
    "* String format for tickers\n",
    "* \\\\$XX.XX format for stock prices\n",
    "* \\\\$XX,XXX format for market capitalization\n",
    "* Integer format for the number of shares to purchase"
   ],
   "metadata": {}
  },
  {
   "cell_type": "code",
   "execution_count": 16,
   "source": [
    "background_color = '#0a0a23'\r\n",
    "font_color = '#ffffff'\r\n",
    "\r\n",
    "string_format = writer.book.add_format(\r\n",
    "        {\r\n",
    "            'font_color': font_color,\r\n",
    "            'bg_color': background_color,\r\n",
    "            'border': 1\r\n",
    "        }\r\n",
    "    )\r\n",
    "\r\n",
    "dollar_format = writer.book.add_format(\r\n",
    "        {\r\n",
    "            'num_format':'$0.00',\r\n",
    "            'font_color': font_color,\r\n",
    "            'bg_color': background_color,\r\n",
    "            'border': 1\r\n",
    "        }\r\n",
    "    )\r\n",
    "\r\n",
    "integer_format = writer.book.add_format(\r\n",
    "        {\r\n",
    "            'num_format':'0',\r\n",
    "            'font_color': font_color,\r\n",
    "            'bg_color': background_color,\r\n",
    "            'border': 1\r\n",
    "        }\r\n",
    "    )"
   ],
   "outputs": [],
   "metadata": {}
  },
  {
   "cell_type": "markdown",
   "source": [
    "### Applying the Formats to the Columns of Our `.xlsx` File\n",
    "\n",
    "We can use the `set_column` method applied to the `writer.sheets['Recommended Trades']` object to apply formats to specific columns of our spreadsheets.\n",
    "\n",
    "Here's an example:\n",
    "\n",
    "```python\n",
    "writer.sheets['Recommended Trades'].set_column('B:B', #This tells the method to apply the format to column B\n",
    "                     18, #This tells the method to apply a column width of 18 pixels\n",
    "                     string_template #This applies the format 'string_template' to the column\n",
    "                    )\n",
    "```"
   ],
   "metadata": {}
  },
  {
   "cell_type": "code",
   "execution_count": 17,
   "source": [
    "# writer.sheets['Recommended Trades'].write('A1', 'Ticker', string_format)\r\n",
    "# writer.sheets['Recommended Trades'].write('B1', 'Price', string_format)\r\n",
    "# writer.sheets['Recommended Trades'].write('C1', 'Market Capitalization', string_format)\r\n",
    "# writer.sheets['Recommended Trades'].write('D1', 'Number Of Shares to Buy', string_format)\r\n",
    "# writer.sheets['Recommended Trades'].set_column('A:A', 20, string_format)\r\n",
    "# writer.sheets['Recommended Trades'].set_column('B:B', 20, dollar_format)\r\n",
    "# writer.sheets['Recommended Trades'].set_column('C:C', 20, dollar_format)\r\n",
    "# writer.sheets['Recommended Trades'].set_column('D:D', 20, integer_format)"
   ],
   "outputs": [],
   "metadata": {}
  },
  {
   "cell_type": "markdown",
   "source": [
    "This code works, but it violates the software principle of \"Don't Repeat Yourself\". \n",
    "\n",
    "Let's simplify this by putting it in 2 loops:"
   ],
   "metadata": {}
  },
  {
   "cell_type": "code",
   "execution_count": 18,
   "source": [
    "column_formats = { \r\n",
    "                    'A': ['Ticker', string_format],\r\n",
    "                    'B': ['Price', dollar_format],\r\n",
    "                    'C': ['Market Capitalization', dollar_format],\r\n",
    "                    'D': ['Number of Shares to Buy', integer_format]\r\n",
    "                    }\r\n",
    "\r\n",
    "for column in column_formats.keys():\r\n",
    "    writer.sheets['Recommended Trades'].set_column(f'{column}:{column}', 20, column_formats[column][1])\r\n",
    "    writer.sheets['Recommended Trades'].write(f'{column}1', column_formats[column][0], string_format)"
   ],
   "outputs": [],
   "metadata": {}
  },
  {
   "cell_type": "markdown",
   "source": [
    "## Saving Our Excel Output\n",
    "\n",
    "Saving our Excel file is very easy:"
   ],
   "metadata": {}
  },
  {
   "cell_type": "code",
   "execution_count": 19,
   "source": [
    "writer.save()"
   ],
   "outputs": [],
   "metadata": {}
  }
 ],
 "metadata": {
  "kernelspec": {
   "name": "python3",
   "display_name": "Python 3.9.6 64-bit"
  },
  "language_info": {
   "codemirror_mode": {
    "name": "ipython",
    "version": 3
   },
   "file_extension": ".py",
   "mimetype": "text/x-python",
   "name": "python",
   "nbconvert_exporter": "python",
   "pygments_lexer": "ipython3",
   "version": "3.9.6"
  },
  "interpreter": {
   "hash": "d62006d1f3422635846181a997a61e8ec3049f797e5d7dfe0cd1bb84092b7c19"
  }
 },
 "nbformat": 4,
 "nbformat_minor": 4
}